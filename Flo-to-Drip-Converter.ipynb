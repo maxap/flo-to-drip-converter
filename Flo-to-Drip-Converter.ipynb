{
 "cells": [
  {
   "cell_type": "code",
   "execution_count": 1,
   "id": "d7fe69f8-3fc0-49d6-bab5-1fcf8b03531d",
   "metadata": {
    "tags": []
   },
   "outputs": [],
   "source": [
    "import os # reading files n stuff\n",
    "import datetime # calculating dates"
   ]
  },
  {
   "cell_type": "code",
   "execution_count": 32,
   "id": "0cdf8427-ea60-4fd0-95f7-e16dfc3d7aaa",
   "metadata": {
    "tags": []
   },
   "outputs": [],
   "source": [
    "#first read res.txt from flo data export\n",
    "#eventually outputs a out.csv for import into drip\n",
    "#every bleeding is sotred as medium due to lazyness\n",
    "\n",
    "with open(\"res.txt\", 'r') as f:\n",
    "    lines = f.readlines()\n",
    "    #ugly but works\n",
    "    starts :list['datetime.datetime'] = []\n",
    "    stops :list['datetime.datime'] = []\n",
    "    for line in lines:\n",
    "        #EOF detection\n",
    "        if not line:\n",
    "            break\n",
    "        #remove capitalization, ease of use\n",
    "        line = line.casefold()\n",
    "        \n",
    "        if \"period start date\" in line:\n",
    "            #split string\n",
    "            words = line.split()\n",
    "            starts.append(datetime.datetime.strptime(words[3], \"%Y-%m-%d\"))\n",
    "        if \"period end date\" in line:\n",
    "            #split string\n",
    "            words = line.split()\n",
    "            stops.append(datetime.datetime.strptime(words[3], \"%Y-%m-%d\"))\n",
    "     \n",
    "    #modify start and end date to match difference in calculation between drip and flo\n",
    "    starts = [start + datetime.timedelta(days=1) for start in starts]\n",
    "    stops = [stop + datetime.timedelta(days=1) for stop in stops]\n",
    "    \n",
    "\n",
    "    #calculate dates\n",
    "    dates :list['datetime.datetime'] = []\n",
    "    for current, stop in zip(starts, stops):\n",
    "        stop = stop+datetime.timedelta(days=1)\n",
    "        #save every date between start date and (inclusive) stop date to a list\n",
    "        while current != stop:\n",
    "            dates.append(current)\n",
    "            current += datetime.timedelta(days=1)\n",
    "            \n",
    "    # create date strings form datetime objects\n",
    "    dates = [date.strftime(\"%Y-%m-%d\") for date in dates]\n",
    "    \n",
    "    #write out.csv for import into drip app\n",
    "    with open(\"out.csv\", \"w+\") as fp:\n",
    "        fp.write(\"date,bleeding.value,bleeding.exclude\\n\")\n",
    "        for date in dates:\n",
    "            fp.write(str(date) + \",2,false\\n\")\n",
    "\n",
    "\n",
    "\n",
    "                \n",
    "            \n",
    "            \n"
   ]
  }
 ],
 "metadata": {
  "kernelspec": {
   "display_name": "Python 3 (ipykernel)",
   "language": "python",
   "name": "python3"
  },
  "language_info": {
   "codemirror_mode": {
    "name": "ipython",
    "version": 3
   },
   "file_extension": ".py",
   "mimetype": "text/x-python",
   "name": "python",
   "nbconvert_exporter": "python",
   "pygments_lexer": "ipython3",
   "version": "3.10.10"
  }
 },
 "nbformat": 4,
 "nbformat_minor": 5
}
